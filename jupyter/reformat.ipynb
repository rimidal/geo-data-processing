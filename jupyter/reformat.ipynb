{
 "cells": [
  {
   "cell_type": "code",
   "execution_count": 1,
   "metadata": {},
   "outputs": [],
   "source": [
    "import pandas as pd\n",
    "from pyproj import Proj, transform\n",
    "from osgeo import ogr,osr\n",
    "import json"
   ]
  },
  {
   "cell_type": "code",
   "execution_count": 2,
   "metadata": {},
   "outputs": [],
   "source": [
    "inSpatialRef = osr.SpatialReference()\n",
    "inSpatialRef.ImportFromEPSG(3857)\n",
    "outSpatialRef = osr.SpatialReference()\n",
    "outSpatialRef.ImportFromEPSG(4326)\n",
    "coordTrans = osr.CoordinateTransformation(inSpatialRef, outSpatialRef)"
   ]
  },
  {
   "cell_type": "code",
   "execution_count": 3,
   "metadata": {},
   "outputs": [],
   "source": [
    "points_file1 = 'points500.txt'\n",
    "points_file2 = 'points1000.txt'\n",
    "poly_file1 = 'poly10.txt'\n",
    "poly_file2 = 'poly15.txt'"
   ]
  },
  {
   "cell_type": "code",
   "execution_count": 4,
   "metadata": {},
   "outputs": [],
   "source": [
    "f_500 = open('../TrainingDataSet/'+points_file1,'r')\n",
    "f_1000 = open('../TrainingDataSet/'+points_file2,'r')"
   ]
  },
  {
   "cell_type": "code",
   "execution_count": 5,
   "metadata": {},
   "outputs": [],
   "source": [
    "points  = f_500.readlines()\n",
    "points = [ '<'+x.split(':<')[1].replace('\\n','') for x in points]"
   ]
  },
  {
   "cell_type": "code",
   "execution_count": 6,
   "metadata": {},
   "outputs": [],
   "source": [
    "points = [ ogr.CreateGeometryFromGML(x) for x in points]"
   ]
  },
  {
   "cell_type": "code",
   "execution_count": 7,
   "metadata": {},
   "outputs": [],
   "source": [
    "for x in points:\n",
    "    x.Transform(coordTrans)"
   ]
  },
  {
   "cell_type": "code",
   "execution_count": 8,
   "metadata": {},
   "outputs": [],
   "source": [
    "points = [x.ExportToWkt() for x in points]\n",
    "pd.DataFrame(points).to_csv('../data/wkt_'+points_file1,header=False,index=False)"
   ]
  },
  {
   "cell_type": "code",
   "execution_count": 9,
   "metadata": {},
   "outputs": [],
   "source": [
    "points  = f_1000.readlines()\n",
    "points = [ '<'+x.split(':<')[1].replace('\\n','') for x in points]\n",
    "\n",
    "points = [ ogr.CreateGeometryFromGML(x) for x in points]\n",
    "for x in points:\n",
    "    x.Transform(coordTrans)\n",
    "    \n",
    "points = [x.ExportToWkt() for x in points]\n",
    "pd.DataFrame(points).to_csv('../data/wkt_'+points_file2,header=False,index=False)"
   ]
  },
  {
   "cell_type": "code",
   "execution_count": 10,
   "metadata": {},
   "outputs": [],
   "source": [
    "f_500 = open('../TrainingDataSet/'+poly_file1,'r')\n",
    "f_1000 = open('../TrainingDataSet/'+poly_file2,'r')"
   ]
  },
  {
   "cell_type": "code",
   "execution_count": 11,
   "metadata": {},
   "outputs": [],
   "source": [
    "poly  = f_500.readlines()\n",
    "poly = [ '<'+x.split(':<')[1].replace('\\n','') for x in poly]\n",
    "poly = [ ogr.CreateGeometryFromGML(x) for x in poly]\n"
   ]
  },
  {
   "cell_type": "code",
   "execution_count": 12,
   "metadata": {},
   "outputs": [],
   "source": [
    "for x in poly:\n",
    "    x.Transform(coordTrans)"
   ]
  },
  {
   "cell_type": "code",
   "execution_count": 13,
   "metadata": {},
   "outputs": [],
   "source": [
    "poly = [x.ExportToWkt() for x in poly]"
   ]
  },
  {
   "cell_type": "code",
   "execution_count": 14,
   "metadata": {},
   "outputs": [],
   "source": [
    "pd.DataFrame(poly).to_csv('../data/wkt_'+poly_file1,header=False,index=False)"
   ]
  },
  {
   "cell_type": "code",
   "execution_count": 15,
   "metadata": {},
   "outputs": [],
   "source": [
    "poly  = f_1000.readlines()\n",
    "poly = [ '<'+x.split(':<')[1].replace('\\n','') for x in poly]\n",
    "\n",
    "poly = [ ogr.CreateGeometryFromGML(x) for x in poly]\n",
    "for x in poly:\n",
    "    x.Transform(coordTrans)\n",
    "poly = [x.ExportToWkt() for x in poly]\n",
    "pd.DataFrame(poly).to_csv('../data/wkt_'+poly_file2,header=False,index=False)"
   ]
  }
 ],
 "metadata": {
  "kernelspec": {
   "display_name": "Python 3",
   "language": "python",
   "name": "python3"
  },
  "language_info": {
   "codemirror_mode": {
    "name": "ipython",
    "version": 3
   },
   "file_extension": ".py",
   "mimetype": "text/x-python",
   "name": "python",
   "nbconvert_exporter": "python",
   "pygments_lexer": "ipython3",
   "version": "3.7.2"
  }
 },
 "nbformat": 4,
 "nbformat_minor": 2
}
