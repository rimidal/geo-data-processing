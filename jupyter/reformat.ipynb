{
 "cells": [
  {
   "cell_type": "code",
   "execution_count": 1,
   "metadata": {},
   "outputs": [],
   "source": [
    "import pandas as pd\n",
    "from pyproj import Proj, transform\n",
    "def clean(a):\n",
    "    point = a.split(':<')[0]\n",
    "    coords = a.split(':<')[1].replace('\\n','').split('\">')[2].split('</')[0].replace(' ','')\n",
    "    coords = (float(coords.split(',')[0]), float(coords.split(',')[1]))\n",
    "    long, lat = transform(Proj(init='epsg:3857'), Proj(init='epsg:4326'),coords[0],coords[1])\n",
    "    return point, [long, lat] \n",
    "\n",
    "def clean_poly(a):\n",
    "    point = a.split(':<')[0]\n",
    "    coords = a.split(':<')[1].replace('\\n','').split('ts=\" \">')[1].split(' </gml:coordinate')[0].split(' ')    \n",
    "    return point, [[float(x.split(',')[0]),float(x.split(',')[1])] for x in coords[0:-1]]\n",
    "\n",
    "def xml_to_df(xml):\n",
    "    points = [ clean(x) for x in xml]\n",
    "    return pd.DataFrame(points,columns=['id','coords'])"
   ]
  },
  {
   "cell_type": "code",
   "execution_count": 2,
   "metadata": {},
   "outputs": [],
   "source": [
    "f_500 = open('../TrainingDataSet/points500.txt','r')\n",
    "f_1000 = open('../TrainingDataSet/points1000.txt','r')"
   ]
  },
  {
   "cell_type": "code",
   "execution_count": 3,
   "metadata": {},
   "outputs": [],
   "source": [
    "points  = f_500.readlines()"
   ]
  },
  {
   "cell_type": "code",
   "execution_count": 4,
   "metadata": {
    "scrolled": true
   },
   "outputs": [],
   "source": [
    "xml_to_df(points)\n",
    "xml_to_df(points).to_csv('../data/converted_points500.csv',header=False,index=False)"
   ]
  },
  {
   "cell_type": "code",
   "execution_count": 5,
   "metadata": {},
   "outputs": [],
   "source": [
    "points  = f_1000.readlines()"
   ]
  },
  {
   "cell_type": "code",
   "execution_count": 6,
   "metadata": {},
   "outputs": [],
   "source": [
    "points = [ clean(x) for x in points]\n",
    "data = pd.DataFrame(points)\n",
    "data\n",
    "data.to_csv('../data/converted_points1000.csv',header=False,index=False)"
   ]
  },
  {
   "cell_type": "code",
   "execution_count": 7,
   "metadata": {},
   "outputs": [],
   "source": [
    "def transform_point(x):\n",
    "    return transform(Proj(init='epsg:3857'), Proj(init='epsg:4326'), x[0],x[1])"
   ]
  },
  {
   "cell_type": "code",
   "execution_count": 8,
   "metadata": {},
   "outputs": [],
   "source": [
    "def transform_poly(polygon):\n",
    "    return polygon[0],[transform_point(x)for x in polygon[1]]"
   ]
  },
  {
   "cell_type": "code",
   "execution_count": 9,
   "metadata": {},
   "outputs": [],
   "source": [
    "f_10 = open('../TrainingDataSet/poly10.txt','r')"
   ]
  },
  {
   "cell_type": "code",
   "execution_count": 10,
   "metadata": {},
   "outputs": [],
   "source": [
    "poly  = f_10.readlines()\n",
    "data = [clean_poly(x) for x in poly ]"
   ]
  },
  {
   "cell_type": "code",
   "execution_count": 11,
   "metadata": {},
   "outputs": [],
   "source": [
    "data = [transform_poly(x) for x in data]"
   ]
  },
  {
   "cell_type": "code",
   "execution_count": 12,
   "metadata": {},
   "outputs": [],
   "source": [
    "data = pd.DataFrame(data)"
   ]
  },
  {
   "cell_type": "code",
   "execution_count": 13,
   "metadata": {},
   "outputs": [
    {
     "data": {
      "text/plain": [
       "(-118.2659193911917, 33.66370485915837)"
      ]
     },
     "execution_count": 13,
     "metadata": {},
     "output_type": "execute_result"
    }
   ],
   "source": [
    "data[1][0][282]"
   ]
  },
  {
   "cell_type": "code",
   "execution_count": 14,
   "metadata": {},
   "outputs": [],
   "source": [
    "data.to_csv('../data/converted_poly10.csv',header=False,index=False)"
   ]
  },
  {
   "cell_type": "code",
   "execution_count": 15,
   "metadata": {},
   "outputs": [],
   "source": [
    "f_15 = open('../TrainingDataSet/poly15.txt','r')\n",
    "poly  = f_15.readlines()\n",
    "data = [clean_poly(x) for x in poly ]\n",
    "data = [transform_poly(x) for x in data]\n",
    "data = pd.DataFrame(data)\n",
    "data.to_csv('../data/converted_poly15.csv',header=False,index=False)"
   ]
  }
 ],
 "metadata": {
  "kernelspec": {
   "display_name": "Python 3",
   "language": "python",
   "name": "python3"
  },
  "language_info": {
   "codemirror_mode": {
    "name": "ipython",
    "version": 3
   },
   "file_extension": ".py",
   "mimetype": "text/x-python",
   "name": "python",
   "nbconvert_exporter": "python",
   "pygments_lexer": "ipython3",
   "version": "3.7.2"
  }
 },
 "nbformat": 4,
 "nbformat_minor": 2
}
